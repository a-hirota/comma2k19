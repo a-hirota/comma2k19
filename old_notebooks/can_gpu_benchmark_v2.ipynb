{
 "cells": [
  {
   "cell_type": "markdown",
   "id": "cell-0",
   "metadata": {},
   "source": [
    "# CANデータGPU処理ベンチマーク\n",
    "\n",
    "CANバイナリデータのGPU処理とCPU処理の比較、およびParquet出力の検証を行います。"
   ]
  },
  {
   "cell_type": "markdown",
   "id": "cell-1",
   "metadata": {},
   "source": [
    "## 1. 環境設定とインポート"
   ]
  },
  {
   "cell_type": "code",
   "execution_count": 1,
   "id": "cell-2",
   "metadata": {},
   "outputs": [
    {
     "name": "stdout",
     "output_type": "stream",
     "text": [
      "ライブラリのインポート完了\n"
     ]
    }
   ],
   "source": [
    "import numpy as np\n",
    "import pandas as pd\n",
    "import matplotlib.pyplot as plt\n",
    "import seaborn as sns\n",
    "import time\n",
    "from pathlib import Path\n",
    "import sys\n",
    "\n",
    "# Add parent directory to path for imports\n",
    "sys.path.append('..')\n",
    "\n",
    "# Import decoders\n",
    "#from gpu_can_decoder import GPUCANDecoder\n",
    "from gpu_can_decoder_optimized import OptimizedGPUCANDecoder\n",
    "from cpu_can_decoder import CPUCANDecoder\n",
    "\n",
    "print(\"ライブラリのインポート完了\")"
   ]
  },
  {
   "cell_type": "markdown",
   "id": "w4lc1zmswp",
   "metadata": {},
   "source": [
    "## 2. ベンチマーク用データ生成"
   ]
  },
  {
   "cell_type": "code",
   "execution_count": 2,
   "id": "b7e78b41-1928-4609-bb85-bf07709711b8",
   "metadata": {},
   "outputs": [
    {
     "name": "stdout",
     "output_type": "stream",
     "text": [
      "テストデータサイズ: [1000000, 5000000, 10000000]\n"
     ]
    }
   ],
   "source": [
    "# テスト用データの生成 - 1,000,000メッセージ以上のみ\n",
    "test_sizes = [\n",
    "    1_000_000,     # 1M\n",
    "    5_000_000,     # 5M\n",
    "    10_000_000,    # 10M\n",
    "]\n",
    "print(\"テストデータサイズ:\", test_sizes)"
   ]
  },
  {
   "cell_type": "code",
   "execution_count": 3,
   "id": "g1m07ukoahs",
   "metadata": {},
   "outputs": [],
   "source": [
    "def generate_synthetic_can_data(n_messages):\n",
    "    \"\"\"合成CANデータの生成（OpenPilot DBCファイルに準拠）\"\"\"\n",
    "    # リアルなCANデータ分布を模倣\n",
    "    address_distribution = {\n",
    "        170: 0.037,  # 4輪速度\n",
    "        37: 0.037,   # ステアリング\n",
    "        36: 0.037,\n",
    "        740: 0.044,\n",
    "        608: 0.022,\n",
    "        180: 0.018,\n",
    "    }\n",
    "    \n",
    "    # アドレスを生成\n",
    "    addresses = []\n",
    "    for addr, prob in address_distribution.items():\n",
    "        count = int(n_messages * prob)\n",
    "        addresses.extend([addr] * count)\n",
    "    \n",
    "    # 残りはランダムなアドレス\n",
    "    remaining = n_messages - len(addresses)\n",
    "    other_addresses = np.random.choice([452, 466, 467, 705, 321, 562], remaining)\n",
    "    addresses.extend(other_addresses)\n",
    "    \n",
    "    # シャッフル\n",
    "    np.random.shuffle(addresses)\n",
    "    addresses = np.array(addresses[:n_messages], dtype=np.int64)\n",
    "    \n",
    "    # タイムスタンプ（実データと同じ範囲）\n",
    "    timestamps = np.linspace(46408.0, 46468.0, n_messages)\n",
    "    \n",
    "    # データバイト\n",
    "    data_bytes = np.zeros((n_messages, 8), dtype=np.uint8)\n",
    "    \n",
    "    for i in range(n_messages):\n",
    "        if addresses[i] == 170:  # 4輪速度\n",
    "            # OpenPilot DBC: (0.01,-67.67) \\\"kph\\\" for Toyota RAV4\n",
    "            for j in range(4):\n",
    "                speed_kmh = np.random.uniform(55, 65)  # 55-65 km/h\n",
    "                raw_value = int((speed_kmh + 67.67) / 0.01)\n",
    "                data_bytes[i, j*2] = (raw_value >> 8) & 0xFF\n",
    "                data_bytes[i, j*2 + 1] = raw_value & 0xFF\n",
    "        elif addresses[i] == 37:  # ステアリング\n",
    "            # 固定値パターン（実データと同じ）\n",
    "            data_bytes[i] = [0x00, 0x00, 0x10, 0x00, 0xC0, 0x00, 0x00, 0xFD]\n",
    "        else:\n",
    "            # その他はランダム\n",
    "            data_bytes[i] = np.random.randint(0, 256, 8, dtype=np.uint8)\n",
    "    \n",
    "    return timestamps, addresses, data_bytes"
   ]
  },
  {
   "cell_type": "code",
   "execution_count": 4,
   "id": "dk9u9u5ft0h",
   "metadata": {},
   "outputs": [
    {
     "name": "stdout",
     "output_type": "stream",
     "text": [
      "デコーダーを初期化中...\n",
      "CUDAカーネルのウォームアップ中...\n",
      "  ウォームアップ 1/2...\n"
     ]
    },
    {
     "name": "stderr",
     "output_type": "stream",
     "text": [
      "/home/ubuntu/miniconda3/envs/cudf_dev/lib/python3.12/site-packages/numba_cuda/numba/cuda/dispatcher.py:605: NumbaPerformanceWarning: \u001b[1mGrid size 3 will likely result in GPU under-utilization due to low occupancy.\u001b[0m\n",
      "  warn(NumbaPerformanceWarning(msg))\n"
     ]
    },
    {
     "name": "stdout",
     "output_type": "stream",
     "text": [
      "  === GPU処理の詳細 ===\n",
      "  データ抽出: 0.0028秒\n",
      "  物理値変換: 0.3616秒\n",
      "  総処理時間: 0.3644秒\n",
      "  データサイズ削減: 0.2 MB → 0.0 MB (7.4%)\n",
      "  ウォームアップ 2/2...\n",
      "  === GPU処理の詳細 ===\n",
      "  データ抽出: 0.0007秒\n",
      "  物理値変換: 0.0930秒\n",
      "  総処理時間: 0.0936秒\n",
      "  データサイズ削減: 0.2 MB → 0.0 MB (7.4%)\n",
      "ウォームアップ完了！\n"
     ]
    }
   ],
   "source": [
    "# デコーダーの初期化とウォームアップ\n",
    "print(\"デコーダーを初期化中...\")\n",
    "optimized_gpu_decoder = OptimizedGPUCANDecoder(batch_size=500_000, chunk_size=1)\n",
    "cpu_decoder = CPUCANDecoder(batch_size=100_000)\n",
    "\n",
    "# CUDAカーネルのウォームアップ（初回コンパイルを事前に実行）\n",
    "print(\"CUDAカーネルのウォームアップ中...\")\n",
    "warmup_data = generate_synthetic_can_data(10_000)\n",
    "for i in range(2):\n",
    "    print(f\"  ウォームアップ {i+1}/2...\")\n",
    "    _ = optimized_gpu_decoder.decode_batch_for_benchmark(*warmup_data)\n",
    "print(\"ウォームアップ完了！\")"
   ]
  },
  {
   "cell_type": "markdown",
   "id": "cell-3",
   "metadata": {},
   "source": [
    "## 3. ベンチマーク実行"
   ]
  },
  {
   "cell_type": "code",
   "execution_count": null,
   "id": "cell-6",
   "metadata": {},
   "outputs": [
    {
     "name": "stdout",
     "output_type": "stream",
     "text": [
      "\n",
      "--- 1,000,000 メッセージの処理 ---\n",
      "全データサイズ: 22.9 MB（内抽出対象データサイズ: 1.7 MB）\n",
      "  === GPU処理の詳細 ===\n",
      "  データ抽出: 0.0051秒\n",
      "  物理値変換: 0.0131秒\n",
      "  総処理時間: 0.0182秒\n",
      "  データサイズ削減: 22.9 MB → 1.7 MB (7.4%)\n",
      "\n",
      "  === CPU処理の詳細 ===\n",
      "  マスク作成: 0.0005秒\n",
      "  データ抽出: 0.0009秒\n",
      "  物理値変換: 0.0709秒\n",
      "  総処理時間: 0.0924秒\n",
      "\n",
      "GPU処理時間: 0.0206秒 (48.5 Mmsg/s)\n",
      "CPU処理時間: 0.0924秒 (10.8 Mmsg/s)\n",
      "高速化率: 4.5x\n",
      "\n",
      "--- 5,000,000 メッセージの処理 ---\n",
      "全データサイズ: 114.4 MB（内抽出対象データサイズ: 8.5 MB）\n",
      "  === GPU処理の詳細 ===\n",
      "  データ抽出: 0.0299秒\n",
      "  物理値変換: 0.0144秒\n",
      "  総処理時間: 0.0443秒\n",
      "  データサイズ削減: 114.4 MB → 8.5 MB (7.4%)\n",
      "\n",
      "  === CPU処理の詳細 ===\n",
      "  マスク作成: 0.0026秒\n",
      "  データ抽出: 0.0050秒\n",
      "  物理値変換: 0.3606秒\n",
      "  総処理時間: 0.4638秒\n",
      "\n",
      "GPU処理時間: 0.0555秒 (90.1 Mmsg/s)\n",
      "CPU処理時間: 0.4638秒 (10.8 Mmsg/s)\n",
      "高速化率: 8.4x\n",
      "\n",
      "--- 10,000,000 メッセージの処理 ---\n",
      "全データサイズ: 228.9 MB（内抽出対象データサイズ: 16.9 MB）\n",
      "  === GPU処理の詳細 ===\n",
      "  データ抽出: 0.0484秒\n",
      "  物理値変換: 0.0180秒\n",
      "  総処理時間: 0.0664秒\n",
      "  データサイズ削減: 228.9 MB → 16.9 MB (7.4%)\n"
     ]
    }
   ],
   "source": [
    "# ベンチマーク結果格納\n",
    "benchmark_results = []\n",
    "\n",
    "for n_messages in test_sizes:\n",
    "    print(f\"\\n--- {n_messages:,} メッセージの処理 ---\")\n",
    "    \n",
    "    # データ生成\n",
    "    timestamps, addresses, data_bytes = generate_synthetic_can_data(n_messages)\n",
    "    data_size_mb = (timestamps.nbytes + addresses.nbytes + data_bytes.nbytes) / (1024**2)\n",
    "    \n",
    "    # 抽出対象データサイズの計算（アドレス170と37のみ）\n",
    "    target_mask = (addresses == 170) | (addresses == 37)\n",
    "    target_count = np.sum(target_mask)\n",
    "    target_size_mb = (timestamps[target_mask].nbytes + addresses[target_mask].nbytes + data_bytes[target_mask].nbytes) / (1024**2)\n",
    "    \n",
    "    print(f\"全データサイズ: {data_size_mb:.1f} MB（内抽出対象データサイズ: {target_size_mb:.1f} MB）\")\n",
    "    \n",
    "    # GPU処理（最適化）\n",
    "    opt_gpu_start = time.time()\n",
    "    opt_gpu_chunk_results = optimized_gpu_decoder.decode_batch_for_benchmark(timestamps, addresses, data_bytes)\n",
    "    opt_gpu_time = time.time() - opt_gpu_start\n",
    "    \n",
    "    # CPU処理（全てのサイズで実測）\n",
    "    cpu_start = time.time()\n",
    "    cpu_results = cpu_decoder.decode_batch(timestamps, addresses, data_bytes, debug_timing=True)\n",
    "    cpu_time = time.time() - cpu_start\n",
    "    \n",
    "    # CPU処理の詳細時間を表示（3つの主要ステップに集約）\n",
    "    if '_timing' in cpu_results:\n",
    "        timing = cpu_results['_timing']\n",
    "        # マスク作成\n",
    "        mask_time = timing.get('mask_creation', 0)\n",
    "        # データ抽出（インデックス検索と配列割り当て）\n",
    "        data_extract_time = timing.get('index_search', 0) + timing.get('array_allocation', 0)\n",
    "        # 物理値変換（デコードループ、DataFrame作成、ソート）\n",
    "        physical_convert_time = (timing.get('decode_loop', 0) + \n",
    "                               timing.get('wheel_df_creation', 0) + \n",
    "                               timing.get('wheel_sort', 0))\n",
    "        \n",
    "        print(f\"\\n  === CPU処理の詳細 ===\")\n",
    "        print(f\"  マスク作成: {mask_time:.4f}秒\")\n",
    "        print(f\"  データ抽出: {data_extract_time:.4f}秒\")\n",
    "        print(f\"  物理値変換: {physical_convert_time:.4f}秒\")\n",
    "        print(f\"  総処理時間: {cpu_time:.4f}秒\")\n",
    "    \n",
    "    # 結果記録\n",
    "    result = {\n",
    "        'n_messages': n_messages,\n",
    "        'data_size_mb': data_size_mb,\n",
    "        'opt_gpu_time': opt_gpu_time,\n",
    "        'cpu_time': cpu_time,\n",
    "        'speedup': cpu_time / opt_gpu_time,\n",
    "        'opt_gpu_throughput': n_messages / opt_gpu_time / 1e6,\n",
    "        'cpu_throughput': n_messages / cpu_time / 1e6\n",
    "    }\n",
    "    benchmark_results.append(result)\n",
    "    \n",
    "    print(f\"\\nGPU処理時間: {opt_gpu_time:.4f}秒 ({result['opt_gpu_throughput']:.1f} Mmsg/s)\")\n",
    "    print(f\"CPU処理時間: {cpu_time:.4f}秒 ({result['cpu_throughput']:.1f} Mmsg/s)\")\n",
    "    print(f\"高速化率: {result['speedup']:.1f}x\")\n",
    "\n",
    "# DataFrameに変換\n",
    "benchmark_df = pd.DataFrame(benchmark_results)\n",
    "benchmark_df"
   ]
  }
 ],
 "metadata": {
  "kernelspec": {
   "display_name": "Python 3 (ipykernel)",
   "language": "python",
   "name": "python3"
  },
  "language_info": {
   "codemirror_mode": {
    "name": "ipython",
    "version": 3
   },
   "file_extension": ".py",
   "mimetype": "text/x-python",
   "name": "python",
   "nbconvert_exporter": "python",
   "pygments_lexer": "ipython3",
   "version": "3.12.9"
  }
 },
 "nbformat": 4,
 "nbformat_minor": 5
}
