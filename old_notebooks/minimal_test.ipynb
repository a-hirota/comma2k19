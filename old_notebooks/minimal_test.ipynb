{
  "cells": [
    {
      "cell_type": "markdown",
      "id": "title",
      "metadata": {},
      "source": "# CAN GPU Benchmark Test"
    },
    {
      "cell_type": "code",
      "execution_count": null,
      "id": "test1",
      "metadata": {},
      "outputs": [],
      "source": "print(\"Hello from test notebook\")"
    }
  ],
  "metadata": {
    "kernelspec": {
      "display_name": "Python 3 (cudf_dev)",
      "language": "python",
      "name": "cudf_dev"
    },
    "language_info": {
      "name": "python",
      "version": "3.12.0"
    }
  },
  "nbformat": 4,
  "nbformat_minor": 5
}